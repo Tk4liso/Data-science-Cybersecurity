{
 "cells": [
  {
   "cell_type": "code",
   "execution_count": 3,
   "id": "063bd4d1-5711-4b45-ac02-34851d68ed89",
   "metadata": {},
   "outputs": [
    {
     "name": "stdout",
     "output_type": "stream",
     "text": [
      "4.4\n"
     ]
    }
   ],
   "source": [
    "mensaje = \"¡Hola, mundo!\"\n",
    "numero=42\n",
    "pi= 3.14159\n",
    "x = 2.2 # esto es una variable flotante\n",
    "x = 2.2\n",
    "y = 2\n",
    "resultado = x * y \n",
    "print (resultado)"
   ]
  },
  {
   "cell_type": "code",
   "execution_count": null,
   "id": "3554a8d3-aebf-4b74-ad46-bbec7a4dd6e4",
   "metadata": {},
   "outputs": [],
   "source": [
    "pip install pandas"
   ]
  },
  {
   "cell_type": "code",
   "execution_count": 2,
   "id": "ddddd63c-d4c5-4b32-a66c-498ac1fed60f",
   "metadata": {},
   "outputs": [
    {
     "name": "stdout",
     "output_type": "stream",
     "text": [
      "--- Usando print() ---\n",
      "    Nombre  Edad      Ciudad\n",
      "0    Alice    25  Nueva York\n",
      "1      Bob    30     Londres\n",
      "2  Charlie    35       París\n",
      "3    David    28      Berlín\n",
      "\n",
      "--- Usando display() ---\n"
     ]
    },
    {
     "data": {
      "text/html": [
       "<div>\n",
       "<style scoped>\n",
       "    .dataframe tbody tr th:only-of-type {\n",
       "        vertical-align: middle;\n",
       "    }\n",
       "\n",
       "    .dataframe tbody tr th {\n",
       "        vertical-align: top;\n",
       "    }\n",
       "\n",
       "    .dataframe thead th {\n",
       "        text-align: right;\n",
       "    }\n",
       "</style>\n",
       "<table border=\"1\" class=\"dataframe\">\n",
       "  <thead>\n",
       "    <tr style=\"text-align: right;\">\n",
       "      <th></th>\n",
       "      <th>Nombre</th>\n",
       "      <th>Edad</th>\n",
       "      <th>Ciudad</th>\n",
       "    </tr>\n",
       "  </thead>\n",
       "  <tbody>\n",
       "    <tr>\n",
       "      <th>0</th>\n",
       "      <td>Alice</td>\n",
       "      <td>25</td>\n",
       "      <td>Nueva York</td>\n",
       "    </tr>\n",
       "    <tr>\n",
       "      <th>1</th>\n",
       "      <td>Bob</td>\n",
       "      <td>30</td>\n",
       "      <td>Londres</td>\n",
       "    </tr>\n",
       "    <tr>\n",
       "      <th>2</th>\n",
       "      <td>Charlie</td>\n",
       "      <td>35</td>\n",
       "      <td>París</td>\n",
       "    </tr>\n",
       "    <tr>\n",
       "      <th>3</th>\n",
       "      <td>David</td>\n",
       "      <td>28</td>\n",
       "      <td>Berlín</td>\n",
       "    </tr>\n",
       "  </tbody>\n",
       "</table>\n",
       "</div>"
      ],
      "text/plain": [
       "    Nombre  Edad      Ciudad\n",
       "0    Alice    25  Nueva York\n",
       "1      Bob    30     Londres\n",
       "2  Charlie    35       París\n",
       "3    David    28      Berlín"
      ]
     },
     "metadata": {},
     "output_type": "display_data"
    },
    {
     "name": "stdout",
     "output_type": "stream",
     "text": [
      "\n",
      "--- print() de un string ---\n",
      "Hola mundo!\n",
      "\n",
      "--- display() de un string (similar a print para texto simple) ---\n"
     ]
    },
    {
     "data": {
      "text/plain": [
       "'Hola mundo!'"
      ]
     },
     "metadata": {},
     "output_type": "display_data"
    },
    {
     "name": "stdout",
     "output_type": "stream",
     "text": [
      "\n",
      "--- Múltiples outputs con print() ---\n",
      "Primer mensaje\n",
      "    Nombre  Edad      Ciudad\n",
      "0    Alice    25  Nueva York\n",
      "1      Bob    30     Londres\n",
      "2  Charlie    35       París\n",
      "3    David    28      Berlín\n",
      "Segundo mensaje\n",
      "\n",
      "--- Múltiples outputs con display() ---\n"
     ]
    },
    {
     "data": {
      "text/plain": [
       "'Primer mensaje'"
      ]
     },
     "metadata": {},
     "output_type": "display_data"
    },
    {
     "data": {
      "text/html": [
       "<div>\n",
       "<style scoped>\n",
       "    .dataframe tbody tr th:only-of-type {\n",
       "        vertical-align: middle;\n",
       "    }\n",
       "\n",
       "    .dataframe tbody tr th {\n",
       "        vertical-align: top;\n",
       "    }\n",
       "\n",
       "    .dataframe thead th {\n",
       "        text-align: right;\n",
       "    }\n",
       "</style>\n",
       "<table border=\"1\" class=\"dataframe\">\n",
       "  <thead>\n",
       "    <tr style=\"text-align: right;\">\n",
       "      <th></th>\n",
       "      <th>Nombre</th>\n",
       "      <th>Edad</th>\n",
       "      <th>Ciudad</th>\n",
       "    </tr>\n",
       "  </thead>\n",
       "  <tbody>\n",
       "    <tr>\n",
       "      <th>0</th>\n",
       "      <td>Alice</td>\n",
       "      <td>25</td>\n",
       "      <td>Nueva York</td>\n",
       "    </tr>\n",
       "    <tr>\n",
       "      <th>1</th>\n",
       "      <td>Bob</td>\n",
       "      <td>30</td>\n",
       "      <td>Londres</td>\n",
       "    </tr>\n",
       "    <tr>\n",
       "      <th>2</th>\n",
       "      <td>Charlie</td>\n",
       "      <td>35</td>\n",
       "      <td>París</td>\n",
       "    </tr>\n",
       "    <tr>\n",
       "      <th>3</th>\n",
       "      <td>David</td>\n",
       "      <td>28</td>\n",
       "      <td>Berlín</td>\n",
       "    </tr>\n",
       "  </tbody>\n",
       "</table>\n",
       "</div>"
      ],
      "text/plain": [
       "    Nombre  Edad      Ciudad\n",
       "0    Alice    25  Nueva York\n",
       "1      Bob    30     Londres\n",
       "2  Charlie    35       París\n",
       "3    David    28      Berlín"
      ]
     },
     "metadata": {},
     "output_type": "display_data"
    },
    {
     "data": {
      "text/plain": [
       "'Segundo mensaje'"
      ]
     },
     "metadata": {},
     "output_type": "display_data"
    }
   ],
   "source": [
    "import pandas as pd\n",
    "from IPython.display import display\n",
    "\n",
    "data = {\n",
    "    'Nombre': ['Alice', 'Bob', 'Charlie', 'David'],\n",
    "    'Edad': [25, 30, 35, 28],\n",
    "    'Ciudad': ['Nueva York', 'Londres', 'París', 'Berlín']\n",
    "}\n",
    "\n",
    "df = pd.DataFrame(data)\n",
    "\n",
    "print(\"--- Usando print() ---\")\n",
    "print(df)\n",
    "\n",
    "print(\"\\n--- Usando display() ---\")\n",
    "display(df)\n",
    "\n",
    "# Otro ejemplo con print vs display para un objeto de texto\n",
    "print(\"\\n--- print() de un string ---\")\n",
    "print(\"Hola mundo!\")\n",
    "\n",
    "print(\"\\n--- display() de un string (similar a print para texto simple) ---\")\n",
    "display(\"Hola mundo!\")\n",
    "# Para strings simples, display se comporta de forma similar a print.\n",
    "# La verdadera potencia de display se ve con objetos complejos.\n",
    "\n",
    "# Mostrar múltiples outputs en una celda (solo funciona bien con display)\n",
    "print(\"\\n--- Múltiples outputs con print() ---\")\n",
    "print(\"Primer mensaje\")\n",
    "print(df)\n",
    "print(\"Segundo mensaje\")\n",
    "\n",
    "print(\"\\n--- Múltiples outputs con display() ---\")\n",
    "display(\"Primer mensaje\")\n",
    "display(df)\n",
    "display(\"Segundo mensaje\")"
   ]
  },
  {
   "cell_type": "code",
   "execution_count": 18,
   "id": "51e70686-62e6-40b3-a2aa-d61113a01908",
   "metadata": {},
   "outputs": [
    {
     "name": "stdout",
     "output_type": "stream",
     "text": [
      "ELLA DIJO: 'HOLA'\n",
      "ÉL RESPONDIÓ: \"HASTA LUEGO\"\n"
     ]
    }
   ],
   "source": [
    "mensaje1=\"ELLA DIJO: 'HOLA'\"\n",
    "mensaje2='ÉL RESPONDIÓ: \"HASTA LUEGO\"'\n",
    "\n",
    "print(mensaje1)\n",
    "print(mensaje2)\n",
    "\n",
    "#print(\"Linea\\\")"
   ]
  },
  {
   "cell_type": "code",
   "execution_count": 21,
   "id": "1df22934-f8c6-471f-947d-f76ecdbe8103",
   "metadata": {},
   "outputs": [
    {
     "name": "stdout",
     "output_type": "stream",
     "text": [
      "Suma:{x+y},División Entera:{x//y},Potencia:{x**y}\n"
     ]
    }
   ],
   "source": [
    "x=5;y=2\n",
    "\n",
    "print(\"Suma:{x+y},División Entera:{x//y},Potencia:{x**y}\")"
   ]
  },
  {
   "cell_type": "code",
   "execution_count": 22,
   "id": "32736421-c349-4839-a483-6c7b1f2bacd3",
   "metadata": {},
   "outputs": [
    {
     "name": "stdout",
     "output_type": "stream",
     "text": [
      "Suma: 7, División Entera: 2, Potencia: 25\n"
     ]
    }
   ],
   "source": [
    "x =5; y =2\n",
    "print(f\"Suma: {x+y}, División Entera: {x//y}, Potencia: {x**y}\")"
   ]
  },
  {
   "cell_type": "code",
   "execution_count": 23,
   "id": "dbc9ee6c-1ca8-4664-8155-d7c1abaa5de3",
   "metadata": {},
   "outputs": [
    {
     "name": "stdout",
     "output_type": "stream",
     "text": [
      "True\n"
     ]
    }
   ],
   "source": [
    "x=5; y=2\n",
    "\n",
    "print((x>y) and (y!=0))"
   ]
  },
  {
   "cell_type": "code",
   "execution_count": 27,
   "id": "56be12bb-c306-4a08-a107-b4e57c346c1f",
   "metadata": {},
   "outputs": [
    {
     "name": "stdout",
     "output_type": "stream",
     "text": [
      "True\n",
      "True\n",
      "True\n",
      "True\n"
     ]
    }
   ],
   "source": [
    "print('Py' in 'Python')\n",
    "print(10 in [1,2,3,10])\n",
    "\n",
    "print('Java' not in 'Python')\n",
    "print(5 not in [1,2,3,10])"
   ]
  },
  {
   "cell_type": "code",
   "execution_count": 29,
   "id": "6ae590ed-7719-448e-b4a9-a458fd15d311",
   "metadata": {},
   "outputs": [
    {
     "name": "stdout",
     "output_type": "stream",
     "text": [
      "1\n",
      "True\n",
      "2\n",
      "4\n",
      "4\n"
     ]
    }
   ],
   "source": [
    "#SECUENCIAS ORDENADAS Y MUTABLES\n",
    "\n",
    "mi_lista=[1,\"hola\",3.14,True]\n",
    "\n",
    "print(mi_lista[0])\n",
    "print(mi_lista[-1]) #La indexación negativa va desde el final del arreglo/secuencia hasta el principio\n",
    "\n",
    "lista_anidada=[1,[2,3],4]\n",
    "print(lista_anidada[1][0]) # 2\n",
    "print(lista_anidada[2]) # 3\n",
    "print(lista_anidada[-1]) # 3"
   ]
  },
  {
   "cell_type": "code",
   "execution_count": 30,
   "id": "94164434-df8a-4383-b95b-e650291640b4",
   "metadata": {},
   "outputs": [
    {
     "name": "stdout",
     "output_type": "stream",
     "text": [
      "[1, [2, 3], 4]\n",
      "1\n",
      "[2, 3]\n",
      "4\n",
      "2\n"
     ]
    }
   ],
   "source": [
    "lista_anidada=[1,[2,3],4]\n",
    "print(lista_anidada)\n",
    "\n",
    "print(lista_anidada[0]) #1\n",
    "print(lista_anidada[1]) #[2,3]\n",
    "print(lista_anidada[2]) #4\n",
    "\n",
    "print(lista_anidada[1][0]) #2"
   ]
  },
  {
   "cell_type": "code",
   "execution_count": 37,
   "id": "c7b6ed3e-924c-44bb-8915-af966415520d",
   "metadata": {},
   "outputs": [
    {
     "name": "stdout",
     "output_type": "stream",
     "text": [
      "[1, 2, 3]\n",
      "[0, 1, 2, 3, 4, 5]\n",
      "[0, 2, 4]\n",
      "[0, 1, 2]\n",
      "[3, 4, 5]\n",
      "\n",
      "\n",
      "[5, 4, 3, 2, 1, 0]\n",
      "[3, 4]\n"
     ]
    }
   ],
   "source": [
    "#EJEMPLOS DE SLICING\n",
    "\n",
    "numeros=[0,1,2,3,4,5]\n",
    "\n",
    "print(numeros[1:4])\n",
    "print(numeros[:])\n",
    "print(numeros[::2])\n",
    "print(numeros[:3])\n",
    "print(numeros[3:]) \n",
    "print(\"\\n\")\n",
    "\n",
    "print(numeros[::-1])\n",
    "print(numeros[-3:-1])"
   ]
  },
  {
   "cell_type": "code",
   "execution_count": 49,
   "id": "b2348c59-b7c2-4904-8cd7-7afc7b79f655",
   "metadata": {},
   "outputs": [
    {
     "name": "stdout",
     "output_type": "stream",
     "text": [
      "[1, 10, 20]\n"
     ]
    }
   ],
   "source": [
    "mi_lista = [10, 1, 5]\n",
    "mi_lista.append(20) #[10, 1, 5, 20]\n",
    "mi_lista.sort()     #[1, 5, 10, 20]\n",
    "\n",
    "elemento = mi_lista.pop(1) # elemento = 5, mi_lista = [1, 10, 20]\n",
    "print(mi_lista)\n"
   ]
  },
  {
   "cell_type": "code",
   "execution_count": 58,
   "id": "2f3ab831-c6e5-4cc9-89d1-0fff3e5c7d8f",
   "metadata": {},
   "outputs": [
    {
     "name": "stdout",
     "output_type": "stream",
     "text": [
      "[1, 2, 3]\n"
     ]
    }
   ],
   "source": [
    "#SHALLOW COPY pt.1\n",
    "\n",
    "list_a = [1, 2]\n",
    "list_b = list_a\n",
    "list_b.append(3)\n",
    "print(list_a) # Salida: [1, 2, 3] ¡ list_a también cambió !"
   ]
  },
  {
   "cell_type": "code",
   "execution_count": 63,
   "id": "663f66d6-c0d8-4757-bf53-26edca1202a7",
   "metadata": {},
   "outputs": [
    {
     "name": "stdout",
     "output_type": "stream",
     "text": [
      "[1, 2, [3, 4, 6]]\n",
      "[1, 2, [3, 4, 6], 5]\n",
      "[1, 2, [3, 4, 6]]\n",
      "[1, 7, [3, 4, 6], 5]\n"
     ]
    }
   ],
   "source": [
    "#SHALLOW COPY pt.2\n",
    "#Asignación vs copia\n",
    "#Los elementos individuales si se siguen referenciando con los originales, los superficiales no\n",
    "\n",
    "list_original=[1,2,[3,4]]\n",
    "list_copia=list_original.copy()\n",
    "list_copia.append(5)\n",
    "list_copia[2].append(6) # ¡Si unelementoes mutable (como otra lista), modificarlo en la copia afecta al original.!\n",
    "\n",
    "print(list_original)\n",
    "print(list_copia)\n",
    "\n",
    "list_copia[1]=7\n",
    "print(list_original)\n",
    "print(list_copia)"
   ]
  },
  {
   "cell_type": "code",
   "execution_count": 65,
   "id": "1a15a19d-c6d2-4919-ac3a-77d8e645916e",
   "metadata": {},
   "outputs": [
    {
     "name": "stdout",
     "output_type": "stream",
     "text": [
      "[1, [2, 3, 4]]\n",
      "[99, [2, 3, 4]]\n"
     ]
    }
   ],
   "source": [
    "#COPIA PROFUNDA (DEEP COPY)\n",
    "import copy\n",
    "\n",
    "lista_original=[1,[2,3]]\n",
    "copia_s=lista_original.copy()\n",
    "copia_s[0]=99\n",
    "copia_s[1].append(4)\n",
    "print(lista_original)\n",
    "print(copia_s)"
   ]
  }
 ],
 "metadata": {
  "kernelspec": {
   "display_name": "Python 3 (ipykernel)",
   "language": "python",
   "name": "python3"
  },
  "language_info": {
   "codemirror_mode": {
    "name": "ipython",
    "version": 3
   },
   "file_extension": ".py",
   "mimetype": "text/x-python",
   "name": "python",
   "nbconvert_exporter": "python",
   "pygments_lexer": "ipython3",
   "version": "3.9.23"
  }
 },
 "nbformat": 4,
 "nbformat_minor": 5
}
