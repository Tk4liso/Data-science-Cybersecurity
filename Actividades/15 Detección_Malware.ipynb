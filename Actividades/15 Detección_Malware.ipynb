{
 "cells": [
  {
   "cell_type": "markdown",
   "id": "b3934a60-733d-4105-91b2-5e981d1b11ec",
   "metadata": {},
   "source": [
    "**Ejercicio 1: detección de malware**"
   ]
  },
  {
   "cell_type": "code",
   "execution_count": 29,
   "id": "183a99b0-a541-463e-a3c3-72e9c8b1d251",
   "metadata": {},
   "outputs": [],
   "source": [
    "import numpy as np \n",
    "import pandas as pd \n",
    "import pickle \n",
    "from sklearn.model_selection import train_test_split \n",
    "from sklearn.ensemble import RandomForestClassifier \n",
    "from sklearn.metrics import classification_report "
   ]
  },
  {
   "cell_type": "code",
   "execution_count": 30,
   "id": "9c405a96-0a3a-4b67-8b24-8ff80fc071fb",
   "metadata": {},
   "outputs": [
    {
     "name": "stdout",
     "output_type": "stream",
     "text": [
      "<class 'pandas.core.frame.DataFrame'>\n",
      "RangeIndex: 19611 entries, 0 to 19610\n",
      "Data columns (total 79 columns):\n",
      " #   Column                        Non-Null Count  Dtype  \n",
      "---  ------                        --------------  -----  \n",
      " 0   Name                          19611 non-null  object \n",
      " 1   e_magic                       19611 non-null  int64  \n",
      " 2   e_cblp                        19611 non-null  int64  \n",
      " 3   e_cp                          19611 non-null  int64  \n",
      " 4   e_crlc                        19611 non-null  int64  \n",
      " 5   e_cparhdr                     19611 non-null  int64  \n",
      " 6   e_minalloc                    19611 non-null  int64  \n",
      " 7   e_maxalloc                    19611 non-null  int64  \n",
      " 8   e_ss                          19611 non-null  int64  \n",
      " 9   e_sp                          19611 non-null  int64  \n",
      " 10  e_csum                        19611 non-null  int64  \n",
      " 11  e_ip                          19611 non-null  int64  \n",
      " 12  e_cs                          19611 non-null  int64  \n",
      " 13  e_lfarlc                      19611 non-null  int64  \n",
      " 14  e_ovno                        19611 non-null  int64  \n",
      " 15  e_oemid                       19611 non-null  int64  \n",
      " 16  e_oeminfo                     19611 non-null  int64  \n",
      " 17  e_lfanew                      19611 non-null  int64  \n",
      " 18  Machine                       19611 non-null  int64  \n",
      " 19  NumberOfSections              19611 non-null  int64  \n",
      " 20  TimeDateStamp                 19611 non-null  int64  \n",
      " 21  PointerToSymbolTable          19611 non-null  int64  \n",
      " 22  NumberOfSymbols               19611 non-null  int64  \n",
      " 23  SizeOfOptionalHeader          19611 non-null  int64  \n",
      " 24  Characteristics               19611 non-null  int64  \n",
      " 25  Magic                         19611 non-null  int64  \n",
      " 26  MajorLinkerVersion            19611 non-null  int64  \n",
      " 27  MinorLinkerVersion            19611 non-null  int64  \n",
      " 28  SizeOfCode                    19611 non-null  int64  \n",
      " 29  SizeOfInitializedData         19611 non-null  int64  \n",
      " 30  SizeOfUninitializedData       19611 non-null  int64  \n",
      " 31  AddressOfEntryPoint           19611 non-null  int64  \n",
      " 32  BaseOfCode                    19611 non-null  int64  \n",
      " 33  ImageBase                     19611 non-null  int64  \n",
      " 34  SectionAlignment              19611 non-null  int64  \n",
      " 35  FileAlignment                 19611 non-null  int64  \n",
      " 36  MajorOperatingSystemVersion   19611 non-null  int64  \n",
      " 37  MinorOperatingSystemVersion   19611 non-null  int64  \n",
      " 38  MajorImageVersion             19611 non-null  int64  \n",
      " 39  MinorImageVersion             19611 non-null  int64  \n",
      " 40  MajorSubsystemVersion         19611 non-null  int64  \n",
      " 41  MinorSubsystemVersion         19611 non-null  int64  \n",
      " 42  SizeOfHeaders                 19611 non-null  int64  \n",
      " 43  CheckSum                      19611 non-null  int64  \n",
      " 44  SizeOfImage                   19611 non-null  int64  \n",
      " 45  Subsystem                     19611 non-null  int64  \n",
      " 46  DllCharacteristics            19611 non-null  int64  \n",
      " 47  SizeOfStackReserve            19611 non-null  int64  \n",
      " 48  SizeOfStackCommit             19611 non-null  int64  \n",
      " 49  SizeOfHeapReserve             19611 non-null  int64  \n",
      " 50  SizeOfHeapCommit              19611 non-null  int64  \n",
      " 51  LoaderFlags                   19611 non-null  int64  \n",
      " 52  NumberOfRvaAndSizes           19611 non-null  int64  \n",
      " 53  Malware                       19611 non-null  int64  \n",
      " 54  SuspiciousImportFunctions     19611 non-null  int64  \n",
      " 55  SuspiciousNameSection         19611 non-null  int64  \n",
      " 56  SectionsLength                19611 non-null  int64  \n",
      " 57  SectionMinEntropy             19611 non-null  float64\n",
      " 58  SectionMaxEntropy             19611 non-null  int64  \n",
      " 59  SectionMinRawsize             19611 non-null  int64  \n",
      " 60  SectionMaxRawsize             19611 non-null  int64  \n",
      " 61  SectionMinVirtualsize         19611 non-null  int64  \n",
      " 62  SectionMaxVirtualsize         19611 non-null  int64  \n",
      " 63  SectionMaxPhysical            19611 non-null  int64  \n",
      " 64  SectionMinPhysical            19611 non-null  int64  \n",
      " 65  SectionMaxVirtual             19611 non-null  int64  \n",
      " 66  SectionMinVirtual             19611 non-null  int64  \n",
      " 67  SectionMaxPointerData         19611 non-null  int64  \n",
      " 68  SectionMinPointerData         19611 non-null  int64  \n",
      " 69  SectionMaxChar                19611 non-null  int64  \n",
      " 70  SectionMainChar               19611 non-null  int64  \n",
      " 71  DirectoryEntryImport          19611 non-null  int64  \n",
      " 72  DirectoryEntryImportSize      19611 non-null  int64  \n",
      " 73  DirectoryEntryExport          19611 non-null  int64  \n",
      " 74  ImageDirectoryEntryExport     19611 non-null  int64  \n",
      " 75  ImageDirectoryEntryImport     19611 non-null  int64  \n",
      " 76  ImageDirectoryEntryResource   19611 non-null  int64  \n",
      " 77  ImageDirectoryEntryException  19611 non-null  int64  \n",
      " 78  ImageDirectoryEntrySecurity   19611 non-null  int64  \n",
      "dtypes: float64(1), int64(77), object(1)\n",
      "memory usage: 11.8+ MB\n",
      "None\n",
      "\n",
      " --------------------------------------------- \n",
      "\n",
      "                                          Name  e_magic  e_cblp  e_cp  e_crlc  \\\n",
      "0  VirusShare_a878ba26000edaac5c98eff4432723b3    23117     144     3       0   \n",
      "1  VirusShare_ef9130570fddc174b312b2047f5f4cf0    23117     144     3       0   \n",
      "2  VirusShare_ef84cdeba22be72a69b198213dada81a    23117     144     3       0   \n",
      "3  VirusShare_6bf3608e60ebc16cbcff6ed5467d469e    23117     144     3       0   \n",
      "4  VirusShare_2cc94d952b2efb13c7d6bbe0dd59d3fb    23117     144     3       0   \n",
      "5  VirusShare_eff7676f69be2b519f3424def92d3590    23117      80     2       0   \n",
      "6  VirusShare_e76cac211258723745f66bd9f9e29590    23117     144     3       0   \n",
      "7  VirusShare_cef6cdf0e85303a461f67f19ffcc2ddf    23117      80     2       0   \n",
      "8  VirusShare_59af5dfb0c79537eedd3326abde3c857    23117     144     3       0   \n",
      "9  VirusShare_fda0add9d9a8c18c67a758ec2898d976    23117     144     3       0   \n",
      "\n",
      "   e_cparhdr  e_minalloc  e_maxalloc  e_ss  e_sp  ...  SectionMaxChar  \\\n",
      "0          4           0       65535     0   184  ...      3758096608   \n",
      "1          4           0       65535     0   184  ...      3791650880   \n",
      "2          4           0       65535     0   184  ...      3221225536   \n",
      "3          4           0       65535     0   184  ...      3224371328   \n",
      "4          4           0       65535     0   184  ...      3227516992   \n",
      "5          4          15       65535     0   184  ...      3221225536   \n",
      "6          4           0       65535     0   184  ...      3221225536   \n",
      "7          4          15       65535     0   184  ...      3221225536   \n",
      "8          4           0       65535     0   184  ...      3221225536   \n",
      "9          4           0       65535     0   184  ...      3221225536   \n",
      "\n",
      "   SectionMainChar  DirectoryEntryImport  DirectoryEntryImportSize  \\\n",
      "0                0                     7                       152   \n",
      "1                0                    16                       311   \n",
      "2                0                     6                       176   \n",
      "3                0                     8                       155   \n",
      "4                0                     2                        43   \n",
      "5                0                     8                        96   \n",
      "6                0                     3                        74   \n",
      "7                0                     8                        96   \n",
      "8                0                    14                       329   \n",
      "9                0                     3                        41   \n",
      "\n",
      "   DirectoryEntryExport  ImageDirectoryEntryExport  ImageDirectoryEntryImport  \\\n",
      "0                     0                          0                      54440   \n",
      "1                     0                          0                     262276   \n",
      "2                     0                          0                      36864   \n",
      "3                     0                          0                     356352   \n",
      "4                     0                          0                      61440   \n",
      "5                     0                          0                      53248   \n",
      "6                     0                          0                      45140   \n",
      "7                     0                          0                      53248   \n",
      "8                    16                     533872                     526528   \n",
      "9                     0                          0                      13024   \n",
      "\n",
      "   ImageDirectoryEntryResource  ImageDirectoryEntryException  \\\n",
      "0                        77824                         73728   \n",
      "1                       294912                             0   \n",
      "2                        40960                             0   \n",
      "3                      1003520                             0   \n",
      "4                        73728                             0   \n",
      "5                        69632                             0   \n",
      "6                        61440                             0   \n",
      "7                        69632                             0   \n",
      "8                       643072                             0   \n",
      "9                        20480                             0   \n",
      "\n",
      "   ImageDirectoryEntrySecurity  \n",
      "0                            0  \n",
      "1                       346112  \n",
      "2                            0  \n",
      "3                     14109472  \n",
      "4                        90624  \n",
      "5                       664744  \n",
      "6                       314368  \n",
      "7                       476984  \n",
      "8                       930128  \n",
      "9                       327680  \n",
      "\n",
      "[10 rows x 79 columns]\n"
     ]
    }
   ],
   "source": [
    "data = pd.read_csv('C:\\\\Users\\\\Tacos\\\\OneDrive\\\\Documentos\\\\Universidad\\\\Curso - Datos, ciberseguridad e inteligencia artificial\\\\Actividades\\\\15 dataset_train.csv') \n",
    "\n",
    "print(data.info()) \n",
    "print(\"\\n --------------------------------------------- \\n\")\n",
    "print(data.head(10))  "
   ]
  },
  {
   "cell_type": "code",
   "execution_count": 31,
   "id": "49957425-34d4-43a2-b4c0-e3b6aae757ea",
   "metadata": {},
   "outputs": [],
   "source": [
    "df = pd.DataFrame(data) \n",
    "X = df.drop(['Name', 'Machine', 'TimeDateStamp', 'Malware'], axis=1) \n",
    "y = df['Malware']"
   ]
  },
  {
   "cell_type": "code",
   "execution_count": 32,
   "id": "5ed49376-5378-428f-b4d2-fbcbf473d73e",
   "metadata": {},
   "outputs": [
    {
     "name": "stdout",
     "output_type": "stream",
     "text": [
      "Number of features used from the dataset is 75\n"
     ]
    }
   ],
   "source": [
    "#SPLIT de 80:20\n",
    "#Para garantizar la reproducibilidad de los resultados del modelo, el parámetro random_state se establece en 42\n",
    "\n",
    "X_train, X_test, y_train, y_test = train_test_split( \n",
    "X, y, test_size=0.2, random_state=42, stratify=y \n",
    ") \n",
    "print(f'Number of features used from the dataset is {X_train.shape[1]}') "
   ]
  },
  {
   "cell_type": "code",
   "execution_count": 33,
   "id": "64015b11-5996-4331-af46-66f8084e314a",
   "metadata": {},
   "outputs": [
    {
     "data": {
      "text/html": [
       "<style>#sk-container-id-3 {color: black;}#sk-container-id-3 pre{padding: 0;}#sk-container-id-3 div.sk-toggleable {background-color: white;}#sk-container-id-3 label.sk-toggleable__label {cursor: pointer;display: block;width: 100%;margin-bottom: 0;padding: 0.3em;box-sizing: border-box;text-align: center;}#sk-container-id-3 label.sk-toggleable__label-arrow:before {content: \"▸\";float: left;margin-right: 0.25em;color: #696969;}#sk-container-id-3 label.sk-toggleable__label-arrow:hover:before {color: black;}#sk-container-id-3 div.sk-estimator:hover label.sk-toggleable__label-arrow:before {color: black;}#sk-container-id-3 div.sk-toggleable__content {max-height: 0;max-width: 0;overflow: hidden;text-align: left;background-color: #f0f8ff;}#sk-container-id-3 div.sk-toggleable__content pre {margin: 0.2em;color: black;border-radius: 0.25em;background-color: #f0f8ff;}#sk-container-id-3 input.sk-toggleable__control:checked~div.sk-toggleable__content {max-height: 200px;max-width: 100%;overflow: auto;}#sk-container-id-3 input.sk-toggleable__control:checked~label.sk-toggleable__label-arrow:before {content: \"▾\";}#sk-container-id-3 div.sk-estimator input.sk-toggleable__control:checked~label.sk-toggleable__label {background-color: #d4ebff;}#sk-container-id-3 div.sk-label input.sk-toggleable__control:checked~label.sk-toggleable__label {background-color: #d4ebff;}#sk-container-id-3 input.sk-hidden--visually {border: 0;clip: rect(1px 1px 1px 1px);clip: rect(1px, 1px, 1px, 1px);height: 1px;margin: -1px;overflow: hidden;padding: 0;position: absolute;width: 1px;}#sk-container-id-3 div.sk-estimator {font-family: monospace;background-color: #f0f8ff;border: 1px dotted black;border-radius: 0.25em;box-sizing: border-box;margin-bottom: 0.5em;}#sk-container-id-3 div.sk-estimator:hover {background-color: #d4ebff;}#sk-container-id-3 div.sk-parallel-item::after {content: \"\";width: 100%;border-bottom: 1px solid gray;flex-grow: 1;}#sk-container-id-3 div.sk-label:hover label.sk-toggleable__label {background-color: #d4ebff;}#sk-container-id-3 div.sk-serial::before {content: \"\";position: absolute;border-left: 1px solid gray;box-sizing: border-box;top: 0;bottom: 0;left: 50%;z-index: 0;}#sk-container-id-3 div.sk-serial {display: flex;flex-direction: column;align-items: center;background-color: white;padding-right: 0.2em;padding-left: 0.2em;position: relative;}#sk-container-id-3 div.sk-item {position: relative;z-index: 1;}#sk-container-id-3 div.sk-parallel {display: flex;align-items: stretch;justify-content: center;background-color: white;position: relative;}#sk-container-id-3 div.sk-item::before, #sk-container-id-3 div.sk-parallel-item::before {content: \"\";position: absolute;border-left: 1px solid gray;box-sizing: border-box;top: 0;bottom: 0;left: 50%;z-index: -1;}#sk-container-id-3 div.sk-parallel-item {display: flex;flex-direction: column;z-index: 1;position: relative;background-color: white;}#sk-container-id-3 div.sk-parallel-item:first-child::after {align-self: flex-end;width: 50%;}#sk-container-id-3 div.sk-parallel-item:last-child::after {align-self: flex-start;width: 50%;}#sk-container-id-3 div.sk-parallel-item:only-child::after {width: 0;}#sk-container-id-3 div.sk-dashed-wrapped {border: 1px dashed gray;margin: 0 0.4em 0.5em 0.4em;box-sizing: border-box;padding-bottom: 0.4em;background-color: white;}#sk-container-id-3 div.sk-label label {font-family: monospace;font-weight: bold;display: inline-block;line-height: 1.2em;}#sk-container-id-3 div.sk-label-container {text-align: center;}#sk-container-id-3 div.sk-container {/* jupyter's `normalize.less` sets `[hidden] { display: none; }` but bootstrap.min.css set `[hidden] { display: none !important; }` so we also need the `!important` here to be able to override the default hidden behavior on the sphinx rendered scikit-learn.org. See: https://github.com/scikit-learn/scikit-learn/issues/21755 */display: inline-block !important;position: relative;}#sk-container-id-3 div.sk-text-repr-fallback {display: none;}</style><div id=\"sk-container-id-3\" class=\"sk-top-container\"><div class=\"sk-text-repr-fallback\"><pre>RandomForestClassifier(max_depth=16, oob_score=True, random_state=0)</pre><b>In a Jupyter environment, please rerun this cell to show the HTML representation or trust the notebook. <br />On GitHub, the HTML representation is unable to render, please try loading this page with nbviewer.org.</b></div><div class=\"sk-container\" hidden><div class=\"sk-item\"><div class=\"sk-estimator sk-toggleable\"><input class=\"sk-toggleable__control sk-hidden--visually\" id=\"sk-estimator-id-3\" type=\"checkbox\" checked><label for=\"sk-estimator-id-3\" class=\"sk-toggleable__label sk-toggleable__label-arrow\">RandomForestClassifier</label><div class=\"sk-toggleable__content\"><pre>RandomForestClassifier(max_depth=16, oob_score=True, random_state=0)</pre></div></div></div></div></div>"
      ],
      "text/plain": [
       "RandomForestClassifier(max_depth=16, oob_score=True, random_state=0)"
      ]
     },
     "execution_count": 33,
     "metadata": {},
     "output_type": "execute_result"
    }
   ],
   "source": [
    "rfc = RandomForestClassifier( \n",
    "n_estimators=100, random_state=0, oob_score=True, max_depth=16 \n",
    ") \n",
    "rfc.fit(X_train, y_train)"
   ]
  },
  {
   "cell_type": "code",
   "execution_count": 34,
   "id": "c587f784-2c12-49b6-9272-115f4dda519d",
   "metadata": {},
   "outputs": [
    {
     "name": "stdout",
     "output_type": "stream",
     "text": [
      "              precision    recall  f1-score   support\n",
      "\n",
      "      Benign       0.99      0.96      0.98      1003\n",
      "     Malware       0.99      1.00      0.99      2920\n",
      "\n",
      "    accuracy                           0.99      3923\n",
      "   macro avg       0.99      0.98      0.98      3923\n",
      "weighted avg       0.99      0.99      0.99      3923\n",
      "\n"
     ]
    }
   ],
   "source": [
    "#generación de predicciones basadas en el conjunto de prueba\n",
    "y_pred = rfc.predict(X_test) \n",
    "\n",
    "#Informe de clasificación\n",
    "print(classification_report(y_test, y_pred, \n",
    "target_names=['Benign', 'Malware'])) "
   ]
  },
  {
   "cell_type": "code",
   "execution_count": 35,
   "id": "3595e291-339a-42e4-a187-0bbf542c3180",
   "metadata": {},
   "outputs": [],
   "source": [
    "test_data = pd.read_csv(\"C:\\\\Users\\\\Tacos\\\\OneDrive\\\\Documentos\\\\Universidad\\\\Curso - Datos, ciberseguridad e inteligencia artificial\\\\Actividades\\\\15 dataset_test.csv\") \n",
    "\n",
    "#Realizamos predicciones\n",
    "X_pred = test_data.drop(['Name', 'Machine', 'TimeDateStamp'], axis=1) \n",
    "predictions = rfc.predict(X_pred) "
   ]
  },
  {
   "cell_type": "code",
   "execution_count": 36,
   "id": "def817c8-7f98-467b-8c5b-04439622464e",
   "metadata": {},
   "outputs": [
    {
     "name": "stdout",
     "output_type": "stream",
     "text": [
      "                                            File Name  Model Prediction\n",
      "0                                  Skype-8.10.0.9.exe                 0\n",
      "1                                 vlc-3.0.2-win64.exe                 0\n",
      "2                                       stinger32.exe                 1\n",
      "3                                SpotifyFullSetup.exe                 0\n",
      "4                                    uftp_english.exe                 1\n",
      "5   161a59f2525518f799c63f916c80fe85f50c5b09c74dc2...                 1\n",
      "6   eaa478e65696ad5cbdb42c1b4bd6954f2a876fdde2e519...                 1\n",
      "7                                   reverse_shell.exe                 1\n",
      "8   873b9eaef6ea5ed6126086594529a3395bdbc5d63c97d8...                 1\n",
      "9                             ScratchInstaller1.4.exe                 1\n",
      "10  69eb27dd3bbf5077dcd795872535b89af9a898254b90ad...                 1\n",
      "11  3334686141a400bb522824fa6f7faf30614372fe11837a...                 1\n",
      "12  3ec4cb928846f8298e5a13b3e96bfc2a709cb3b005a31e...                 1\n",
      "13  252f705dc15d7a305afd3e0619fa014c10b679248f71b7...                 1\n",
      "14                                       wordweb8.exe                 1\n",
      "15  c89f1e55b418a4447394994498971c6e6f3848bfe39ef9...                 1\n",
      "16                                 winrar-x64-550.exe                 0\n"
     ]
    }
   ],
   "source": [
    "results = pd.DataFrame( \n",
    "{'File Name': test_data['Name'], 'Model Prediction': predictions} \n",
    ") \n",
    "print(results) \n",
    "\n",
    "pkl_filename = \"RF_model.pkl\" \n",
    "with open(pkl_filename, 'wb') as file: \n",
    "    pickle.dump(rfc, file) "
   ]
  },
  {
   "cell_type": "markdown",
   "id": "44a7e935-7f46-4802-8b86-ab8031a9e389",
   "metadata": {},
   "source": [
    "**Ejercicio 2: detección de intrusiones en la red**"
   ]
  },
  {
   "cell_type": "code",
   "execution_count": 37,
   "id": "8222c22e-d480-4f8b-a78e-41fd1572d262",
   "metadata": {},
   "outputs": [],
   "source": [
    "import numpy as np \n",
    "import pandas as pd \n",
    "from sklearn.preprocessing import LabelEncoder, StandardScaler \n",
    "from sklearn.model_selection import train_test_split \n",
    "from sklearn.svm import SVC \n",
    "from sklearn.metrics import accuracy_score, classification_report  \n",
    "import pickle"
   ]
  },
  {
   "cell_type": "code",
   "execution_count": 38,
   "id": "7341fd03-156f-4304-b0a7-ddb036275a13",
   "metadata": {},
   "outputs": [
    {
     "name": "stdout",
     "output_type": "stream",
     "text": [
      "label\n",
      "normal      67343\n",
      "abnormal    58630\n",
      "Name: count, dtype: int64\n"
     ]
    }
   ],
   "source": [
    "columns = (['duration','protocol_type','service','flag','src_bytes','dst_bytes','land','wrong_fragment','urgent' \n",
    "    ,'hot','num_failed_logins','logged_in','num_compromised','root_shell','su_attempted','num_root' \n",
    "    ,'num_file_creations','num_shells','num_access_files','num_outbound_cmds','is_host_login' \n",
    "    ,'is_guest_login','count','srv_count','serror_rate','srv_serror_rate','rerror_rate','srv_rerror_rate' \n",
    "    ,'same_srv_rate','diff_srv_rate','srv_diff_host_rate','dst_host_count','dst_host_srv_count' \n",
    "    ,'dst_host_same_srv_rate','dst_host_diff_srv_rate','dst_host_same_src_port_rate' \n",
    "    ,'dst_host_srv_diff_host_rate','dst_host_serror_rate','dst_host_srv_serror_rate','dst_host_rerror_rate' \n",
    "    ,'dst_host_srv_rerror_rate','label','difficulty_level']) \n",
    "\n",
    "train_data = pd.read_csv('C:\\\\Users\\\\Tacos\\\\OneDrive\\\\Documentos\\\\Universidad\\\\Curso - Datos, ciberseguridad e inteligencia artificial\\\\Actividades\\\\15 KDDTrain+.txt', header=None, names=columns) \n",
    "train_data.drop(['difficulty_level','num_outbound_cmds'], axis=1, inplace=True) \n",
    "le = LabelEncoder() \n",
    "\n",
    "train_data['protocol_type'] = le.fit_transform(train_data['protocol_type']) \n",
    "train_data['service'] = le.fit_transform(train_data['service']) \n",
    "train_data['flag'] = le.fit_transform(train_data['flag'])  \n",
    "train_data['label'] = train_data['label'].apply(lambda x: 'normal' if x == 'normal' else \n",
    "'abnormal') \n",
    "print(train_data['label'].value_counts()) \n",
    "\n",
    "train_data['label'] = train_data['label'].apply(lambda x: 0 if x == 'normal' else 1)"
   ]
  },
  {
   "cell_type": "code",
   "execution_count": 39,
   "id": "5d4eeeaa-adcd-4c38-ab7b-05bb95bea72c",
   "metadata": {},
   "outputs": [],
   "source": [
    "#El conjunto de datos se divide en características (X) y etiquetas (Y)\n",
    "X = train_data.drop(['label'], axis=1) \n",
    "y = train_data['label'] \n",
    "\n",
    "#Hacemos un SPLIT de 70:30\n",
    "X_train, X_test, y_train, y_test = train_test_split(X, y, test_size=0.30, random_state=40) "
   ]
  },
  {
   "cell_type": "code",
   "execution_count": 40,
   "id": "a42ed1fe-b21d-4c00-90e7-819cb2972a1e",
   "metadata": {},
   "outputs": [],
   "source": [
    "#Estandarizaremos las características utilizando la función StandardScaler para el escalado\n",
    "scaler = StandardScaler() \n",
    "X_train = scaler.fit_transform(X_train) \n",
    "X_test = scaler.transform(X_test)"
   ]
  },
  {
   "cell_type": "markdown",
   "id": "e0319505-7f18-436c-a86c-8101a399e324",
   "metadata": {},
   "source": [
    "**Entrenamiento**\n",
    "\n",
    "Entrenaremos el modelo utilizando SVM, inicializando un modelo SVM con un kernel de función de base radial (RBF, Radial basis function). El modelo se entrenará con los datos de entrenamiento estandarizados."
   ]
  },
  {
   "cell_type": "code",
   "execution_count": 41,
   "id": "98f43b6b-b1af-458e-a40a-18b362b275fd",
   "metadata": {},
   "outputs": [
    {
     "data": {
      "text/html": [
       "<style>#sk-container-id-4 {color: black;}#sk-container-id-4 pre{padding: 0;}#sk-container-id-4 div.sk-toggleable {background-color: white;}#sk-container-id-4 label.sk-toggleable__label {cursor: pointer;display: block;width: 100%;margin-bottom: 0;padding: 0.3em;box-sizing: border-box;text-align: center;}#sk-container-id-4 label.sk-toggleable__label-arrow:before {content: \"▸\";float: left;margin-right: 0.25em;color: #696969;}#sk-container-id-4 label.sk-toggleable__label-arrow:hover:before {color: black;}#sk-container-id-4 div.sk-estimator:hover label.sk-toggleable__label-arrow:before {color: black;}#sk-container-id-4 div.sk-toggleable__content {max-height: 0;max-width: 0;overflow: hidden;text-align: left;background-color: #f0f8ff;}#sk-container-id-4 div.sk-toggleable__content pre {margin: 0.2em;color: black;border-radius: 0.25em;background-color: #f0f8ff;}#sk-container-id-4 input.sk-toggleable__control:checked~div.sk-toggleable__content {max-height: 200px;max-width: 100%;overflow: auto;}#sk-container-id-4 input.sk-toggleable__control:checked~label.sk-toggleable__label-arrow:before {content: \"▾\";}#sk-container-id-4 div.sk-estimator input.sk-toggleable__control:checked~label.sk-toggleable__label {background-color: #d4ebff;}#sk-container-id-4 div.sk-label input.sk-toggleable__control:checked~label.sk-toggleable__label {background-color: #d4ebff;}#sk-container-id-4 input.sk-hidden--visually {border: 0;clip: rect(1px 1px 1px 1px);clip: rect(1px, 1px, 1px, 1px);height: 1px;margin: -1px;overflow: hidden;padding: 0;position: absolute;width: 1px;}#sk-container-id-4 div.sk-estimator {font-family: monospace;background-color: #f0f8ff;border: 1px dotted black;border-radius: 0.25em;box-sizing: border-box;margin-bottom: 0.5em;}#sk-container-id-4 div.sk-estimator:hover {background-color: #d4ebff;}#sk-container-id-4 div.sk-parallel-item::after {content: \"\";width: 100%;border-bottom: 1px solid gray;flex-grow: 1;}#sk-container-id-4 div.sk-label:hover label.sk-toggleable__label {background-color: #d4ebff;}#sk-container-id-4 div.sk-serial::before {content: \"\";position: absolute;border-left: 1px solid gray;box-sizing: border-box;top: 0;bottom: 0;left: 50%;z-index: 0;}#sk-container-id-4 div.sk-serial {display: flex;flex-direction: column;align-items: center;background-color: white;padding-right: 0.2em;padding-left: 0.2em;position: relative;}#sk-container-id-4 div.sk-item {position: relative;z-index: 1;}#sk-container-id-4 div.sk-parallel {display: flex;align-items: stretch;justify-content: center;background-color: white;position: relative;}#sk-container-id-4 div.sk-item::before, #sk-container-id-4 div.sk-parallel-item::before {content: \"\";position: absolute;border-left: 1px solid gray;box-sizing: border-box;top: 0;bottom: 0;left: 50%;z-index: -1;}#sk-container-id-4 div.sk-parallel-item {display: flex;flex-direction: column;z-index: 1;position: relative;background-color: white;}#sk-container-id-4 div.sk-parallel-item:first-child::after {align-self: flex-end;width: 50%;}#sk-container-id-4 div.sk-parallel-item:last-child::after {align-self: flex-start;width: 50%;}#sk-container-id-4 div.sk-parallel-item:only-child::after {width: 0;}#sk-container-id-4 div.sk-dashed-wrapped {border: 1px dashed gray;margin: 0 0.4em 0.5em 0.4em;box-sizing: border-box;padding-bottom: 0.4em;background-color: white;}#sk-container-id-4 div.sk-label label {font-family: monospace;font-weight: bold;display: inline-block;line-height: 1.2em;}#sk-container-id-4 div.sk-label-container {text-align: center;}#sk-container-id-4 div.sk-container {/* jupyter's `normalize.less` sets `[hidden] { display: none; }` but bootstrap.min.css set `[hidden] { display: none !important; }` so we also need the `!important` here to be able to override the default hidden behavior on the sphinx rendered scikit-learn.org. See: https://github.com/scikit-learn/scikit-learn/issues/21755 */display: inline-block !important;position: relative;}#sk-container-id-4 div.sk-text-repr-fallback {display: none;}</style><div id=\"sk-container-id-4\" class=\"sk-top-container\"><div class=\"sk-text-repr-fallback\"><pre>SVC()</pre><b>In a Jupyter environment, please rerun this cell to show the HTML representation or trust the notebook. <br />On GitHub, the HTML representation is unable to render, please try loading this page with nbviewer.org.</b></div><div class=\"sk-container\" hidden><div class=\"sk-item\"><div class=\"sk-estimator sk-toggleable\"><input class=\"sk-toggleable__control sk-hidden--visually\" id=\"sk-estimator-id-4\" type=\"checkbox\" checked><label for=\"sk-estimator-id-4\" class=\"sk-toggleable__label sk-toggleable__label-arrow\">SVC</label><div class=\"sk-toggleable__content\"><pre>SVC()</pre></div></div></div></div></div>"
      ],
      "text/plain": [
       "SVC()"
      ]
     },
     "execution_count": 41,
     "metadata": {},
     "output_type": "execute_result"
    }
   ],
   "source": [
    "svm_model = SVC(kernel='rbf') \n",
    "svm_model.fit(X_train, y_train)"
   ]
  },
  {
   "cell_type": "markdown",
   "id": "cd803a92-57b4-486b-ad69-45285471f5b0",
   "metadata": {},
   "source": [
    "**Predicciones**"
   ]
  },
  {
   "cell_type": "code",
   "execution_count": 42,
   "id": "cb30dc3d-4eae-4012-b724-3a1cd7fc42c2",
   "metadata": {},
   "outputs": [],
   "source": [
    "y_pred = svm_model.predict(X_test)"
   ]
  },
  {
   "cell_type": "code",
   "execution_count": 43,
   "id": "023e52d6-105f-4914-b479-e87208ef589e",
   "metadata": {},
   "outputs": [
    {
     "name": "stdout",
     "output_type": "stream",
     "text": [
      "Training accuracy:  0.9922092060647986\n",
      "Testing accuracy:  0.9916119813717189\n",
      "SVM Model accuracy:  0.991612\n",
      "Classification Report:\n",
      "               precision    recall  f1-score   support\n",
      "\n",
      "      Normal       0.99      0.99      0.99     20067\n",
      "    Abnormal       0.99      0.99      0.99     17725\n",
      "\n",
      "    accuracy                           0.99     37792\n",
      "   macro avg       0.99      0.99      0.99     37792\n",
      "weighted avg       0.99      0.99      0.99     37792\n",
      "\n"
     ]
    }
   ],
   "source": [
    "print('Training accuracy: ', svm_model.score(X_train, y_train)) \n",
    "print('Testing accuracy: ', svm_model.score(X_test, y_test)) \n",
    "print('SVM Model accuracy: ', np.round(accuracy_score(y_test,y_pred),6)) \n",
    "print('Classification Report:\\n', classification_report(y_test,y_pred,target_names=['Normal','Abnormal']))"
   ]
  },
  {
   "cell_type": "code",
   "execution_count": 45,
   "id": "716bf64e-4ee1-4324-ab5b-50135fe65642",
   "metadata": {},
   "outputs": [],
   "source": [
    "#Guardar el modelo\n",
    "pkl_filename = \"SVM_model.pkl\"  \n",
    "with open(pkl_filename, 'wb') as file: \n",
    "    pickle.dump(svm_model, file) "
   ]
  },
  {
   "cell_type": "code",
   "execution_count": 47,
   "id": "053a7dd7-537b-450c-b1ed-17e10e1995ea",
   "metadata": {},
   "outputs": [
    {
     "name": "stdout",
     "output_type": "stream",
     "text": [
      "Starting Testing Process using the Test Dataset....\n"
     ]
    }
   ],
   "source": [
    "print('Starting Testing Process using the Test Dataset....') "
   ]
  },
  {
   "cell_type": "code",
   "execution_count": 49,
   "id": "0e65f26a-63eb-45ee-b0d0-1d6473beec71",
   "metadata": {},
   "outputs": [],
   "source": [
    "test_data = pd.read_csv('C:\\\\Users\\\\Tacos\\\\OneDrive\\\\Documentos\\\\Universidad\\\\Curso - Datos, ciberseguridad e inteligencia artificial\\\\Actividades\\\\15 KDDTest+.txt', header=None, names=columns) \n",
    "test_data.drop(['difficulty_level', 'num_outbound_cmds'], axis=1, inplace=True) "
   ]
  },
  {
   "cell_type": "code",
   "execution_count": 50,
   "id": "87c95403-7d9a-40f0-9ffc-11a39423c09c",
   "metadata": {},
   "outputs": [],
   "source": [
    "le = LabelEncoder() \n",
    "test_data['protocol_type'] = le.fit_transform(test_data['protocol_type']) \n",
    "test_data['service'] = le.fit_transform(test_data['service']) \n",
    "test_data['flag'] = le.fit_transform(test_data['flag']) \n",
    "test_data['label'] = test_data['label'].apply(lambda x: 0 if x == 'normal' else 1)"
   ]
  },
  {
   "cell_type": "code",
   "execution_count": 51,
   "id": "fd365b79-e6d9-4c2e-a9c5-ab936bd08fce",
   "metadata": {},
   "outputs": [],
   "source": [
    "X_test = test_data.drop(['label'], axis=1) \n",
    "y_test = test_data['label']\n",
    "\n",
    "X_test = scaler.transform(X_test) \n",
    "y_pred = svm_model.predict(X_test)"
   ]
  },
  {
   "cell_type": "code",
   "execution_count": 52,
   "id": "d8783ace-cb03-4cbf-8b43-f0b4dd2ad6c6",
   "metadata": {},
   "outputs": [
    {
     "name": "stdout",
     "output_type": "stream",
     "text": [
      "Testing Phase accuracy:  0.7819819020581973\n",
      "SVM Model accuracy:  0.7819819020581973\n",
      "Classification Report:\n",
      "               precision    recall  f1-score   support\n",
      "\n",
      "      Normal       0.67      0.98      0.79      9711\n",
      "    Abnormal       0.98      0.63      0.77     12833\n",
      "\n",
      "    accuracy                           0.78     22544\n",
      "   macro avg       0.82      0.81      0.78     22544\n",
      "weighted avg       0.84      0.78      0.78     22544\n",
      "\n"
     ]
    }
   ],
   "source": [
    "print('Testing Phase accuracy: ', accuracy_score(y_test, y_pred)) \n",
    "print('SVM Model accuracy: ', accuracy_score(y_test, y_pred)) \n",
    "print('Classification Report:\\n', classification_report(y_test, y_pred, target_names=[\"Normal\", \"Abnormal\"]))"
   ]
  },
  {
   "cell_type": "markdown",
   "id": "ba1bae3d-fe71-4d3c-af5d-75e52b7cc5df",
   "metadata": {},
   "source": [
    "Usamos un conjunto de entrenamiento, uno de pruebas y otro de validación (similar a unas propuestas vistas en mpaquinas de aprendizaje).\n",
    "\n",
    "La falta de selección de características puede contribuir al sobreajuste del modelo de SVM (esto se observa en la desviación obtenida). El uso de un kernel RBF, susceptible al sobreajuste en conjuntos de datos pequeños, agrava aún más este problema. \n",
    "\n",
    "**Pasando de la detección a la clasificación**\n",
    "\n",
    "La transición de la detección de malware a la clasificación de malware representa una \n",
    "evolución significativa en la sofisticación y la granularidad del análisis realizado sobre \n",
    "software potencialmente dañino.\n",
    "\n",
    "En el ámbito de la detección de malware, el objetivo principal es identificar si un determinado software exhibe un comportamiento malicioso o no.  Los algoritmos utilizados para la detección de malware se centran en distinguir entre estas dos clases, a menudo empleando técnicas como la detección de anomalías o el reconocimiento de patrones para señalar actividad sospechosa. Por otro lado, la clasificación de malware profundiza en la categorización y caracterización del software malicioso, con el objetivo de clasificar el malware en diferentes tipos o familias en función de sus patrones de comportamiento, estructuras de código u otros atributos."
   ]
  }
 ],
 "metadata": {
  "kernelspec": {
   "display_name": "Python 3 (ipykernel)",
   "language": "python",
   "name": "python3"
  },
  "language_info": {
   "codemirror_mode": {
    "name": "ipython",
    "version": 3
   },
   "file_extension": ".py",
   "mimetype": "text/x-python",
   "name": "python",
   "nbconvert_exporter": "python",
   "pygments_lexer": "ipython3",
   "version": "3.9.23"
  }
 },
 "nbformat": 4,
 "nbformat_minor": 5
}
